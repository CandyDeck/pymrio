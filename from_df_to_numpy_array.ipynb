{
 "cells": [
  {
   "cell_type": "code",
   "execution_count": 1,
   "id": "3158b7b9",
   "metadata": {},
   "outputs": [],
   "source": [
    "import numpy as np\n",
    "import pandas as pd\n",
    "import pymrio"
   ]
  },
  {
   "cell_type": "code",
   "execution_count": 2,
   "id": "977d854d",
   "metadata": {},
   "outputs": [
    {
     "data": {
      "text/plain": [
       "<pymrio.core.mriosystem.IOSystem at 0x7f78561c98e0>"
      ]
     },
     "execution_count": 2,
     "metadata": {},
     "output_type": "execute_result"
    }
   ],
   "source": [
    "io = pymrio.load_test()\n",
    "io.calc_all()"
   ]
  },
  {
   "cell_type": "code",
   "execution_count": 3,
   "id": "2fe260eb",
   "metadata": {},
   "outputs": [
    {
     "name": "stdout",
     "output_type": "stream",
     "text": [
      "Sectors: ['food', 'mining', 'manufactoring', 'electricity', 'construction', 'trade', 'transport', 'other'],\n",
      "Regions: ['reg1', 'reg2', 'reg3', 'reg4', 'reg5', 'reg6']\n"
     ]
    }
   ],
   "source": [
    "print(\n",
    "    \"Sectors: {sec},\\nRegions: {reg}\".format(\n",
    "        sec=io.get_sectors().tolist(), reg=io.get_regions().tolist()\n",
    "    )\n",
    ")"
   ]
  },
  {
   "cell_type": "markdown",
   "id": "3a7ea08e",
   "metadata": {},
   "source": [
    "# **Aggregation using a dataframe concordance**"
   ]
  },
  {
   "cell_type": "markdown",
   "id": "b10265f6",
   "metadata": {},
   "source": [
    "We create a df where old and new sectors and regions appear.\n",
    "The old sectors : 'food', 'mining', 'manufactoring', 'electricity', 'construction', 'trade', 'transport', 'other' are aggregated in 3 new sectors : sec0, sec1 and sec2.\n",
    "\n",
    "The old regions : 'reg1', 'reg2', 'reg3', 'reg4', 'reg5', 'reg6' are aggregated in 2 new regions : reg0 and reg1"
   ]
  },
  {
   "cell_type": "code",
   "execution_count": 4,
   "id": "04c4591e",
   "metadata": {},
   "outputs": [],
   "source": [
    "sectors = {'food': 'sec0', 'mining': 'sec1', 'manufactoring': 'sec1', 'electricity': 'sec1', 'construction': 'sec1', 'trade' : 'sec2', 'transport' :'sec2', 'other' : 'sec2'}\n",
    "regions = {'reg1' : 'reg0','reg2':'reg0','reg3':'reg0','reg4' : 'reg1','reg5':'reg1','reg6':'reg1'}\n",
    "\n",
    "d = {'Sector':sectors,'Regions':regions}\n",
    "df = pd.DataFrame(d)"
   ]
  },
  {
   "cell_type": "code",
   "execution_count": 5,
   "id": "3978647f",
   "metadata": {},
   "outputs": [
    {
     "data": {
      "text/html": [
       "<div>\n",
       "<style scoped>\n",
       "    .dataframe tbody tr th:only-of-type {\n",
       "        vertical-align: middle;\n",
       "    }\n",
       "\n",
       "    .dataframe tbody tr th {\n",
       "        vertical-align: top;\n",
       "    }\n",
       "\n",
       "    .dataframe thead th {\n",
       "        text-align: right;\n",
       "    }\n",
       "</style>\n",
       "<table border=\"1\" class=\"dataframe\">\n",
       "  <thead>\n",
       "    <tr style=\"text-align: right;\">\n",
       "      <th></th>\n",
       "      <th>Sector</th>\n",
       "      <th>Regions</th>\n",
       "    </tr>\n",
       "  </thead>\n",
       "  <tbody>\n",
       "    <tr>\n",
       "      <th>food</th>\n",
       "      <td>sec0</td>\n",
       "      <td>NaN</td>\n",
       "    </tr>\n",
       "    <tr>\n",
       "      <th>mining</th>\n",
       "      <td>sec1</td>\n",
       "      <td>NaN</td>\n",
       "    </tr>\n",
       "    <tr>\n",
       "      <th>manufactoring</th>\n",
       "      <td>sec1</td>\n",
       "      <td>NaN</td>\n",
       "    </tr>\n",
       "    <tr>\n",
       "      <th>electricity</th>\n",
       "      <td>sec1</td>\n",
       "      <td>NaN</td>\n",
       "    </tr>\n",
       "    <tr>\n",
       "      <th>construction</th>\n",
       "      <td>sec1</td>\n",
       "      <td>NaN</td>\n",
       "    </tr>\n",
       "    <tr>\n",
       "      <th>trade</th>\n",
       "      <td>sec2</td>\n",
       "      <td>NaN</td>\n",
       "    </tr>\n",
       "    <tr>\n",
       "      <th>transport</th>\n",
       "      <td>sec2</td>\n",
       "      <td>NaN</td>\n",
       "    </tr>\n",
       "    <tr>\n",
       "      <th>other</th>\n",
       "      <td>sec2</td>\n",
       "      <td>NaN</td>\n",
       "    </tr>\n",
       "    <tr>\n",
       "      <th>reg1</th>\n",
       "      <td>NaN</td>\n",
       "      <td>reg0</td>\n",
       "    </tr>\n",
       "    <tr>\n",
       "      <th>reg2</th>\n",
       "      <td>NaN</td>\n",
       "      <td>reg0</td>\n",
       "    </tr>\n",
       "    <tr>\n",
       "      <th>reg3</th>\n",
       "      <td>NaN</td>\n",
       "      <td>reg0</td>\n",
       "    </tr>\n",
       "    <tr>\n",
       "      <th>reg4</th>\n",
       "      <td>NaN</td>\n",
       "      <td>reg1</td>\n",
       "    </tr>\n",
       "    <tr>\n",
       "      <th>reg5</th>\n",
       "      <td>NaN</td>\n",
       "      <td>reg1</td>\n",
       "    </tr>\n",
       "    <tr>\n",
       "      <th>reg6</th>\n",
       "      <td>NaN</td>\n",
       "      <td>reg1</td>\n",
       "    </tr>\n",
       "  </tbody>\n",
       "</table>\n",
       "</div>"
      ],
      "text/plain": [
       "              Sector Regions\n",
       "food            sec0     NaN\n",
       "mining          sec1     NaN\n",
       "manufactoring   sec1     NaN\n",
       "electricity     sec1     NaN\n",
       "construction    sec1     NaN\n",
       "trade           sec2     NaN\n",
       "transport       sec2     NaN\n",
       "other           sec2     NaN\n",
       "reg1             NaN    reg0\n",
       "reg2             NaN    reg0\n",
       "reg3             NaN    reg0\n",
       "reg4             NaN    reg1\n",
       "reg5             NaN    reg1\n",
       "reg6             NaN    reg1"
      ]
     },
     "execution_count": 5,
     "metadata": {},
     "output_type": "execute_result"
    }
   ],
   "source": [
    "df"
   ]
  },
  {
   "cell_type": "markdown",
   "id": "fc4d57bd",
   "metadata": {},
   "source": [
    "We want to, from the df, set up 2 aggregation matrices : sec_agg_matrix and reg_agg_matrix These are numpy arrays we can later use in the procedure **aggregation using a numerical concordance matrix**.\n",
    "\n",
    "To do so, we import the module **from_df_to_array.py** which contains the function **transformation(df,io)** :"
   ]
  },
  {
   "cell_type": "code",
   "execution_count": 8,
   "id": "03729aa8",
   "metadata": {},
   "outputs": [],
   "source": [
    "import numpy as np\n",
    "import re\n",
    "\n",
    "def transformation(df,io):\n",
    "    \n",
    "    '''\n",
    "    We define two integer 'nbr_matrix_sec' and 'nbr_matrix_reg' which correspond respectively\n",
    "    to the number of new sectors and new regions.\n",
    "    '''\n",
    "    \n",
    "    nbr_matrix_sec=len(df['Sector'].dropna().unique())\n",
    "    nbr_matrix_reg=len(df['Regions'].dropna().unique())\n",
    "    \n",
    "    \n",
    "    '''\n",
    "    We create, for each new sector and region, a 1D matrice of lenth 8 or 6, numbers corresponding\n",
    "    to respectively the initial number of sectors and regions. All the matrices are filled with value 0.\n",
    "    '''\n",
    "    string_mat_sec = \"matrix_sec\"\n",
    "\n",
    "    for i in range(0,len(df['Sector'].ffill().unique())):\n",
    "        locals()[\"_\".join([string_mat_sec,str(i)])] = [0] * len(io.get_index().get_level_values(1).unique())\n",
    "        \n",
    "    string_mat_reg = \"matrix_reg\"\n",
    "    \n",
    "    for i in range(0,len(df['Regions'].ffill().unique())):\n",
    "        locals()[\"_\".join([string_mat_reg,str(i)])] = [0] * len(io.get_index().get_level_values(0).unique())\n",
    "    '''\n",
    "    We create 2 arrays 'sec' and 'reg' containing respectively the names of the new sectors and regions.\n",
    "    '''\n",
    "    sec = []\n",
    "    sec = df['Sector'].dropna().unique()\n",
    "    reg= []\n",
    "    reg = df['Regions'].dropna().unique()\n",
    "    \n",
    "    '''\n",
    "    The initial 1D matrices contains only 0.\n",
    "    The initial matrices are of length corresponding to the initial number of sectors or regions.\n",
    "    The initial sectors are :['food', 'mining', 'manufactoring', 'electricity', 'construction', 'trade',\n",
    "    transport', 'other'].\n",
    "    The initial regions are ['reg1', 'reg2', 'reg3', 'reg4', 'reg5', 'reg6'].\n",
    "    \n",
    "    The matrices corresponds to the composition of the new regions. We indicate the non presence of an old\n",
    "    sector (or region) by allocating the value 0 in the matrice and the presence by allocating the value of 1.\n",
    "    '''\n",
    "    \n",
    "    for i in df.index:\n",
    "        for j in zip(sec,range(0,len(sec))):\n",
    "            if df.loc[df.index==str(i),'Sector'][0] == str(j[0]):\n",
    "                result= np.where(io.get_index().get_level_values(1).unique()==str(i))\n",
    "                index = int(re.findall(r'\\[(.*?)\\]', str(result))[0])\n",
    "                locals()[\"_\".join([\"matrix_sec\",str(j[1])])][index]=1\n",
    "        \n",
    "    for i in df.index:\n",
    "        for j in zip(reg,range(0,len(reg))):\n",
    "            if df.loc[df.index==str(i),'Regions'][0] == str(j[0]):\n",
    "                result= np.where(io.get_index().get_level_values(0).unique()==str(i))\n",
    "                index = int(re.findall(r'\\[(.*?)\\]', str(result))[0])\n",
    "                locals()[\"_\".join([\"matrix_reg\",str(j[1])])][index]=1\n",
    "    \n",
    "    '''\n",
    "    we create the aggregation matrices by \n",
    "    1. combining the matrices created and modifided in the previous steps\n",
    "    2. convert the aggregartion matrices to  numpy arrays\n",
    "    '''\n",
    "    \n",
    "    sec_agg_matrix = []\n",
    "    for n in range(0,len(sec)):\n",
    "        print(n)           \n",
    "        sec_agg_matrix.append(locals()[\"_\".join([\"matrix_sec\",str(n)])])  \n",
    "    sec_agg_matrix = np.array(sec_agg_matrix)  \n",
    "    reg_agg_matrix = []\n",
    "    for n in range(0,len(reg)):\n",
    "        print(n)           \n",
    "        reg_agg_matrix.append(locals()[\"_\".join([\"matrix_reg\",str(n)])])  \n",
    "    reg_agg_matrix = np.array(reg_agg_matrix)  \n",
    "    \n",
    "    return sec_agg_matrix,reg_agg_matrix"
   ]
  },
  {
   "cell_type": "code",
   "execution_count": 9,
   "id": "a5c30f56",
   "metadata": {},
   "outputs": [
    {
     "name": "stdout",
     "output_type": "stream",
     "text": [
      "0\n",
      "1\n",
      "2\n",
      "0\n",
      "1\n"
     ]
    }
   ],
   "source": [
    "sec_agg_matrix,reg_agg_matrix = transformation(df,io)"
   ]
  },
  {
   "cell_type": "code",
   "execution_count": 10,
   "id": "d925142f",
   "metadata": {},
   "outputs": [
    {
     "data": {
      "text/plain": [
       "<pymrio.core.mriosystem.IOSystem at 0x7f78561c98e0>"
      ]
     },
     "execution_count": 10,
     "metadata": {},
     "output_type": "execute_result"
    }
   ],
   "source": [
    "io.aggregate(region_agg=reg_agg_matrix, sector_agg=sec_agg_matrix)"
   ]
  },
  {
   "cell_type": "code",
   "execution_count": 11,
   "id": "59e8f737",
   "metadata": {},
   "outputs": [
    {
     "name": "stdout",
     "output_type": "stream",
     "text": [
      "Sectors: ['sec0', 'sec1', 'sec2'],\n",
      "Regions: ['reg0', 'reg1']\n"
     ]
    }
   ],
   "source": [
    "print(\n",
    "    \"Sectors: {sec},\\nRegions: {reg}\".format(\n",
    "        sec=io.get_sectors().tolist(), reg=io.get_regions().tolist()\n",
    "    )\n",
    ")"
   ]
  },
  {
   "cell_type": "code",
   "execution_count": 12,
   "id": "74ddd291",
   "metadata": {},
   "outputs": [
    {
     "data": {
      "text/plain": [
       "<pymrio.core.mriosystem.IOSystem at 0x7f78561c98e0>"
      ]
     },
     "execution_count": 12,
     "metadata": {},
     "output_type": "execute_result"
    }
   ],
   "source": [
    "io.calc_all()"
   ]
  },
  {
   "cell_type": "code",
   "execution_count": 13,
   "id": "64753a31",
   "metadata": {},
   "outputs": [
    {
     "data": {
      "text/html": [
       "<div>\n",
       "<style scoped>\n",
       "    .dataframe tbody tr th:only-of-type {\n",
       "        vertical-align: middle;\n",
       "    }\n",
       "\n",
       "    .dataframe tbody tr th {\n",
       "        vertical-align: top;\n",
       "    }\n",
       "\n",
       "    .dataframe thead tr th {\n",
       "        text-align: left;\n",
       "    }\n",
       "\n",
       "    .dataframe thead tr:last-of-type th {\n",
       "        text-align: right;\n",
       "    }\n",
       "</style>\n",
       "<table border=\"1\" class=\"dataframe\">\n",
       "  <thead>\n",
       "    <tr>\n",
       "      <th></th>\n",
       "      <th>region</th>\n",
       "      <th colspan=\"3\" halign=\"left\">reg0</th>\n",
       "      <th colspan=\"3\" halign=\"left\">reg1</th>\n",
       "    </tr>\n",
       "    <tr>\n",
       "      <th></th>\n",
       "      <th>sector</th>\n",
       "      <th>sec0</th>\n",
       "      <th>sec1</th>\n",
       "      <th>sec2</th>\n",
       "      <th>sec0</th>\n",
       "      <th>sec1</th>\n",
       "      <th>sec2</th>\n",
       "    </tr>\n",
       "    <tr>\n",
       "      <th>stressor</th>\n",
       "      <th>compartment</th>\n",
       "      <th></th>\n",
       "      <th></th>\n",
       "      <th></th>\n",
       "      <th></th>\n",
       "      <th></th>\n",
       "      <th></th>\n",
       "    </tr>\n",
       "  </thead>\n",
       "  <tbody>\n",
       "    <tr>\n",
       "      <th>emission_type1</th>\n",
       "      <th>air</th>\n",
       "      <td>9.041149e+06</td>\n",
       "      <td>3.018791e+08</td>\n",
       "      <td>1.523236e+08</td>\n",
       "      <td>2.469465e+07</td>\n",
       "      <td>3.468742e+08</td>\n",
       "      <td>2.454117e+08</td>\n",
       "    </tr>\n",
       "    <tr>\n",
       "      <th>emission_type2</th>\n",
       "      <th>water</th>\n",
       "      <td>2.123543e+06</td>\n",
       "      <td>4.884509e+07</td>\n",
       "      <td>9.889757e+07</td>\n",
       "      <td>6.000239e+06</td>\n",
       "      <td>4.594530e+07</td>\n",
       "      <td>1.892731e+08</td>\n",
       "    </tr>\n",
       "  </tbody>\n",
       "</table>\n",
       "</div>"
      ],
      "text/plain": [
       "region                              reg0                              \\\n",
       "sector                              sec0          sec1          sec2   \n",
       "stressor       compartment                                             \n",
       "emission_type1 air          9.041149e+06  3.018791e+08  1.523236e+08   \n",
       "emission_type2 water        2.123543e+06  4.884509e+07  9.889757e+07   \n",
       "\n",
       "region                              reg1                              \n",
       "sector                              sec0          sec1          sec2  \n",
       "stressor       compartment                                            \n",
       "emission_type1 air          2.469465e+07  3.468742e+08  2.454117e+08  \n",
       "emission_type2 water        6.000239e+06  4.594530e+07  1.892731e+08  "
      ]
     },
     "execution_count": 13,
     "metadata": {},
     "output_type": "execute_result"
    }
   ],
   "source": [
    "io.emissions.D_cba"
   ]
  }
 ],
 "metadata": {
  "kernelspec": {
   "display_name": "Python 3",
   "language": "python",
   "name": "python3"
  },
  "language_info": {
   "codemirror_mode": {
    "name": "ipython",
    "version": 3
   },
   "file_extension": ".py",
   "mimetype": "text/x-python",
   "name": "python",
   "nbconvert_exporter": "python",
   "pygments_lexer": "ipython3",
   "version": "3.8.10"
  }
 },
 "nbformat": 4,
 "nbformat_minor": 5
}
